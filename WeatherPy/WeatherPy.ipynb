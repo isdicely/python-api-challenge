{
 "metadata": {
  "language_info": {
   "codemirror_mode": {
    "name": "ipython",
    "version": 3
   },
   "file_extension": ".py",
   "mimetype": "text/x-python",
   "name": "python",
   "nbconvert_exporter": "python",
   "pygments_lexer": "ipython3",
   "version": "3.8.5-final"
  },
  "orig_nbformat": 2,
  "kernelspec": {
   "name": "python3",
   "display_name": "Python 3",
   "language": "python"
  }
 },
 "nbformat": 4,
 "nbformat_minor": 2,
 "cells": [
  {
   "cell_type": "code",
   "execution_count": null,
   "metadata": {},
   "outputs": [],
   "source": [
    "# Dependencies\n",
    "from citipy import citipy\n",
    "from random import uniform\n",
    "import json\n",
    "import requests\n",
    "from pprint import pprint\n",
    "from config import api_key\n",
    "import pandas as pd\n",
    "import matplotlib.pyplot as plt\n",
    "import seaborn as sns"
   ]
  },
  {
   "cell_type": "code",
   "execution_count": null,
   "metadata": {},
   "outputs": [],
   "source": [
    "# Retrive 1000 citites objects from citipy\n",
    "cities = []\n",
    "\n",
    "while len(cities) <1000:\n",
    "    latitude = uniform(90, -90)\n",
    "    longitude = uniform(180, -180)\n",
    "    new_city = citipy.nearest_city(latitude, longitude)\n",
    "    if new_city not in cities:\n",
    "        cities.append(new_city)    "
   ]
  },
  {
   "cell_type": "code",
   "execution_count": null,
   "metadata": {},
   "outputs": [],
   "source": [
    "# Building query and retreiving API query\n",
    "city_info=[]\n",
    "city_num = 0\n",
    "for city in cities:\n",
    "    city_num+=1\n",
    "    base_url = \"http://api.openweathermap.org/data/2.5/weather?q=\"\n",
    "    query_url = (f\"{base_url}{city.city_name},{city.country_code}&units=imperial&appid={api_key}\")\n",
    "    weather_response= requests.get(query_url)\n",
    "    city_info.append(weather_response.json())\n",
    "    print(f\"City count: {city_num}\\n Retrieving data for {city.city_name} in {city.country_code}.\")"
   ]
  },
  {
   "cell_type": "code",
   "execution_count": null,
   "metadata": {},
   "outputs": [],
   "source": [
    "# Pretty Print response\n",
    "pprint(city_info)"
   ]
  },
  {
   "cell_type": "code",
   "execution_count": null,
   "metadata": {},
   "outputs": [],
   "source": [
    "# Function to get values from a dictionary\n",
    "def safe_get(d, *keys):\n",
    "    value = d\n",
    "    for key in keys:\n",
    "        value = value.get(key,None)\n",
    "        if value is None: break\n",
    "    return value\n",
    "\n",
    "# Using list comprehension to retrieve desired data by iterating through dicts in city_info and using function \"safe_get\".\n",
    "weather_city_info = [\n",
    "    {\n",
    "        \"City\": safe_get(city,\"name\"),\n",
    "        \"Country\": safe_get(city,\"sys\",\"country\"), \n",
    "        \"Latitude\": safe_get(city, \"coord\",\"lat\"),\n",
    "        \"Longitude\": safe_get(city, \"coord\",\"lon\"),\n",
    "        \"Temperature (F)\": safe_get(city, \"main\",\"temp\"),\n",
    "        \"Humidity %\": safe_get(city,\"main\", \"humidity\"),\n",
    "        \"Cloudiness %\": safe_get(city, \"clouds\",\"all\"),\n",
    "        \"Wind Speed (mph)\": safe_get(city, \"wind\",\"speed\")\n",
    "    } for city in city_info\n",
    "]\n",
    "pprint(weather_city_info)\n"
   ]
  },
  {
   "cell_type": "code",
   "execution_count": null,
   "metadata": {},
   "outputs": [],
   "source": [
    "weather_city_info_df = pd.DataFrame(weather_city_info)\n",
    "weather_city_info_df"
   ]
  },
  {
   "cell_type": "code",
   "execution_count": null,
   "metadata": {},
   "outputs": [],
   "source": [
    "# Find count of empty dictionaries\n",
    "len([entry for entry in weather_city_info if entry[\"City\"] is None])"
   ]
  },
  {
   "cell_type": "code",
   "execution_count": null,
   "metadata": {},
   "outputs": [],
   "source": [
    "# Drop rows without city information with dropna()\n",
    "clean_weather_city_info_df= weather_city_info_df.dropna()\n",
    "# Count number of cities with information\n",
    "total_cities = clean_weather_city_info_df.count"
   ]
  },
  {
   "cell_type": "code",
   "execution_count": null,
   "metadata": {},
   "outputs": [],
   "source": [
    "clean_weather_city_info_df"
   ]
  },
  {
   "cell_type": "code",
   "execution_count": null,
   "metadata": {},
   "outputs": [],
   "source": [
    "# Write data frame data into csv\n",
    "clean_weather_city_info_df.to_csv('Outputs/weather_data.csv', index= False, header= True)\n"
   ]
  },
  {
   "cell_type": "code",
   "execution_count": null,
   "metadata": {},
   "outputs": [],
   "source": [
    "# Copy data frame for integrity\n",
    "data_df = clean_weather_city_info_df.copy()\n"
   ]
  },
  {
   "cell_type": "code",
   "execution_count": null,
   "metadata": {},
   "outputs": [],
   "source": [
    "# Function to make scatter plots:\n",
    "column_names=[\"Temperature (F)\", \"Humidity %\", \"Cloudiness %\", \"Wind Speed (mph)\"]\n",
    "for type in column_names:\n",
    "    plt.figure(figsize= (15,10))\n",
    "    plt.scatter(data_df[\"Latitude\"], data_df[type])\n",
    "    plt.xlim([-90, 90])\n",
    "    if type == \"Temperature (F)\":\n",
    "        plt.ylim(round(min(data_df[type]),-1)-10,round(max(data_df[type]),-1)+10)\n",
    "    elif type == \"Wind Speed (mph)\":\n",
    "        plt.ylim(0,round(max(data_df[type]),-1)+10)\n",
    "    else:\n",
    "        plt.ylim([0,100])\n",
    "    plt.title(f\"Latitude vs. {type}          (03/26/2021)\", fontsize=20)\n",
    "    plt.xlabel(\"Latitude\", fontsize=16)\n",
    "    plt.ylabel(type, fontsize=16)\n",
    "    plt.grid(color= \"gray\", linestyle=\"--\", linewidth= 0.5)\n",
    "    txt= (f\"Relationship between latitude and {type} of {total_cities} cities taken on 03/26/21 from OpenWeather API.\")\n",
    "    plt.figtext(0.5, 0.01, txt, wrap=True, horizontalalignment='center', fontsize=14)\n",
    "    plt.show()\n",
    "    plt.savefig(f\"Outputs/{type}_scatter.png\")"
   ]
  },
  {
   "cell_type": "code",
   "execution_count": null,
   "metadata": {},
   "outputs": [],
   "source": []
  }
 ]
}